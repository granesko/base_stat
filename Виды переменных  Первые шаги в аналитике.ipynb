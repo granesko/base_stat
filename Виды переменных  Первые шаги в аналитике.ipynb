{
 "cells": [
  {
   "cell_type": "code",
   "execution_count": 10,
   "id": "857fea44",
   "metadata": {},
   "outputs": [],
   "source": [
    "import pandas as pd\n",
    "import numpy as np\n",
    "import random"
   ]
  },
  {
   "cell_type": "code",
   "execution_count": 19,
   "id": "db155d5e",
   "metadata": {},
   "outputs": [],
   "source": [
    "df = pd.read_csv('adult.csv')\n",
    "df_zap = df.copy()"
   ]
  },
  {
   "cell_type": "code",
   "execution_count": 131,
   "id": "24e00939",
   "metadata": {},
   "outputs": [
    {
     "data": {
      "text/html": [
       "<div>\n",
       "<style scoped>\n",
       "    .dataframe tbody tr th:only-of-type {\n",
       "        vertical-align: middle;\n",
       "    }\n",
       "\n",
       "    .dataframe tbody tr th {\n",
       "        vertical-align: top;\n",
       "    }\n",
       "\n",
       "    .dataframe thead th {\n",
       "        text-align: right;\n",
       "    }\n",
       "</style>\n",
       "<table border=\"1\" class=\"dataframe\">\n",
       "  <thead>\n",
       "    <tr style=\"text-align: right;\">\n",
       "      <th></th>\n",
       "      <th>age</th>\n",
       "      <th>educational-num</th>\n",
       "      <th>income</th>\n",
       "      <th>income_rand</th>\n",
       "      <th>income_rand_bin</th>\n",
       "      <th>pct</th>\n",
       "    </tr>\n",
       "  </thead>\n",
       "  <tbody>\n",
       "    <tr>\n",
       "      <th>0</th>\n",
       "      <td>25</td>\n",
       "      <td>7</td>\n",
       "      <td>&lt;=50K</td>\n",
       "      <td>41485.08</td>\n",
       "      <td>(40000.622, 49999.97]</td>\n",
       "      <td>0.631301</td>\n",
       "    </tr>\n",
       "    <tr>\n",
       "      <th>1</th>\n",
       "      <td>38</td>\n",
       "      <td>9</td>\n",
       "      <td>&lt;=50K</td>\n",
       "      <td>22375.98</td>\n",
       "      <td>(20001.926, 30001.274]</td>\n",
       "      <td>0.339237</td>\n",
       "    </tr>\n",
       "    <tr>\n",
       "      <th>2</th>\n",
       "      <td>28</td>\n",
       "      <td>12</td>\n",
       "      <td>&gt;50K</td>\n",
       "      <td>96183.51</td>\n",
       "      <td>(89997.362, 99996.71]</td>\n",
       "      <td>0.982187</td>\n",
       "    </tr>\n",
       "    <tr>\n",
       "      <th>3</th>\n",
       "      <td>44</td>\n",
       "      <td>10</td>\n",
       "      <td>&gt;50K</td>\n",
       "      <td>63861.73</td>\n",
       "      <td>(59999.318, 69998.666]</td>\n",
       "      <td>0.827157</td>\n",
       "    </tr>\n",
       "    <tr>\n",
       "      <th>4</th>\n",
       "      <td>18</td>\n",
       "      <td>10</td>\n",
       "      <td>&lt;=50K</td>\n",
       "      <td>46290.18</td>\n",
       "      <td>(40000.622, 49999.97]</td>\n",
       "      <td>0.704455</td>\n",
       "    </tr>\n",
       "    <tr>\n",
       "      <th>...</th>\n",
       "      <td>...</td>\n",
       "      <td>...</td>\n",
       "      <td>...</td>\n",
       "      <td>...</td>\n",
       "      <td>...</td>\n",
       "      <td>...</td>\n",
       "    </tr>\n",
       "    <tr>\n",
       "      <th>48837</th>\n",
       "      <td>27</td>\n",
       "      <td>12</td>\n",
       "      <td>&lt;=50K</td>\n",
       "      <td>9428.73</td>\n",
       "      <td>(-96.763, 10002.578]</td>\n",
       "      <td>0.144241</td>\n",
       "    </tr>\n",
       "    <tr>\n",
       "      <th>48838</th>\n",
       "      <td>40</td>\n",
       "      <td>9</td>\n",
       "      <td>&gt;50K</td>\n",
       "      <td>89589.14</td>\n",
       "      <td>(79998.014, 89997.362]</td>\n",
       "      <td>0.951660</td>\n",
       "    </tr>\n",
       "    <tr>\n",
       "      <th>48839</th>\n",
       "      <td>58</td>\n",
       "      <td>9</td>\n",
       "      <td>&lt;=50K</td>\n",
       "      <td>21784.67</td>\n",
       "      <td>(20001.926, 30001.274]</td>\n",
       "      <td>0.329880</td>\n",
       "    </tr>\n",
       "    <tr>\n",
       "      <th>48840</th>\n",
       "      <td>22</td>\n",
       "      <td>9</td>\n",
       "      <td>&lt;=50K</td>\n",
       "      <td>4288.09</td>\n",
       "      <td>(-96.763, 10002.578]</td>\n",
       "      <td>0.064248</td>\n",
       "    </tr>\n",
       "    <tr>\n",
       "      <th>48841</th>\n",
       "      <td>52</td>\n",
       "      <td>9</td>\n",
       "      <td>&gt;50K</td>\n",
       "      <td>99017.80</td>\n",
       "      <td>(89997.362, 99996.71]</td>\n",
       "      <td>0.994922</td>\n",
       "    </tr>\n",
       "  </tbody>\n",
       "</table>\n",
       "<p>48842 rows × 6 columns</p>\n",
       "</div>"
      ],
      "text/plain": [
       "       age  educational-num income  income_rand         income_rand_bin  \\\n",
       "0       25                7  <=50K     41485.08   (40000.622, 49999.97]   \n",
       "1       38                9  <=50K     22375.98  (20001.926, 30001.274]   \n",
       "2       28               12   >50K     96183.51   (89997.362, 99996.71]   \n",
       "3       44               10   >50K     63861.73  (59999.318, 69998.666]   \n",
       "4       18               10  <=50K     46290.18   (40000.622, 49999.97]   \n",
       "...    ...              ...    ...          ...                     ...   \n",
       "48837   27               12  <=50K      9428.73    (-96.763, 10002.578]   \n",
       "48838   40                9   >50K     89589.14  (79998.014, 89997.362]   \n",
       "48839   58                9  <=50K     21784.67  (20001.926, 30001.274]   \n",
       "48840   22                9  <=50K      4288.09    (-96.763, 10002.578]   \n",
       "48841   52                9   >50K     99017.80   (89997.362, 99996.71]   \n",
       "\n",
       "            pct  \n",
       "0      0.631301  \n",
       "1      0.339237  \n",
       "2      0.982187  \n",
       "3      0.827157  \n",
       "4      0.704455  \n",
       "...         ...  \n",
       "48837  0.144241  \n",
       "48838  0.951660  \n",
       "48839  0.329880  \n",
       "48840  0.064248  \n",
       "48841  0.994922  \n",
       "\n",
       "[48842 rows x 6 columns]"
      ]
     },
     "execution_count": 131,
     "metadata": {},
     "output_type": "execute_result"
    }
   ],
   "source": [
    "df"
   ]
  },
  {
   "cell_type": "code",
   "execution_count": 25,
   "id": "5a745125",
   "metadata": {},
   "outputs": [
    {
     "name": "stderr",
     "output_type": "stream",
     "text": [
      "C:\\Users\\v.kovardakov\\AppData\\Local\\Temp\\ipykernel_3584\\526184600.py:2: SettingWithCopyWarning: \n",
      "A value is trying to be set on a copy of a slice from a DataFrame.\n",
      "Try using .loc[row_indexer,col_indexer] = value instead\n",
      "\n",
      "See the caveats in the documentation: https://pandas.pydata.org/pandas-docs/stable/user_guide/indexing.html#returning-a-view-versus-a-copy\n",
      "  df['income_rand'] = df['income'].apply(\n"
     ]
    },
    {
     "data": {
      "text/html": [
       "<div>\n",
       "<style scoped>\n",
       "    .dataframe tbody tr th:only-of-type {\n",
       "        vertical-align: middle;\n",
       "    }\n",
       "\n",
       "    .dataframe tbody tr th {\n",
       "        vertical-align: top;\n",
       "    }\n",
       "\n",
       "    .dataframe thead th {\n",
       "        text-align: right;\n",
       "    }\n",
       "</style>\n",
       "<table border=\"1\" class=\"dataframe\">\n",
       "  <thead>\n",
       "    <tr style=\"text-align: right;\">\n",
       "      <th></th>\n",
       "      <th>age</th>\n",
       "      <th>educational-num</th>\n",
       "      <th>income</th>\n",
       "      <th>income_rand</th>\n",
       "    </tr>\n",
       "  </thead>\n",
       "  <tbody>\n",
       "    <tr>\n",
       "      <th>0</th>\n",
       "      <td>25</td>\n",
       "      <td>7</td>\n",
       "      <td>&lt;=50K</td>\n",
       "      <td>41485.08</td>\n",
       "    </tr>\n",
       "    <tr>\n",
       "      <th>1</th>\n",
       "      <td>38</td>\n",
       "      <td>9</td>\n",
       "      <td>&lt;=50K</td>\n",
       "      <td>22375.98</td>\n",
       "    </tr>\n",
       "    <tr>\n",
       "      <th>2</th>\n",
       "      <td>28</td>\n",
       "      <td>12</td>\n",
       "      <td>&gt;50K</td>\n",
       "      <td>96183.51</td>\n",
       "    </tr>\n",
       "    <tr>\n",
       "      <th>3</th>\n",
       "      <td>44</td>\n",
       "      <td>10</td>\n",
       "      <td>&gt;50K</td>\n",
       "      <td>63861.73</td>\n",
       "    </tr>\n",
       "    <tr>\n",
       "      <th>4</th>\n",
       "      <td>18</td>\n",
       "      <td>10</td>\n",
       "      <td>&lt;=50K</td>\n",
       "      <td>46290.18</td>\n",
       "    </tr>\n",
       "    <tr>\n",
       "      <th>...</th>\n",
       "      <td>...</td>\n",
       "      <td>...</td>\n",
       "      <td>...</td>\n",
       "      <td>...</td>\n",
       "    </tr>\n",
       "    <tr>\n",
       "      <th>48837</th>\n",
       "      <td>27</td>\n",
       "      <td>12</td>\n",
       "      <td>&lt;=50K</td>\n",
       "      <td>9428.73</td>\n",
       "    </tr>\n",
       "    <tr>\n",
       "      <th>48838</th>\n",
       "      <td>40</td>\n",
       "      <td>9</td>\n",
       "      <td>&gt;50K</td>\n",
       "      <td>89589.14</td>\n",
       "    </tr>\n",
       "    <tr>\n",
       "      <th>48839</th>\n",
       "      <td>58</td>\n",
       "      <td>9</td>\n",
       "      <td>&lt;=50K</td>\n",
       "      <td>21784.67</td>\n",
       "    </tr>\n",
       "    <tr>\n",
       "      <th>48840</th>\n",
       "      <td>22</td>\n",
       "      <td>9</td>\n",
       "      <td>&lt;=50K</td>\n",
       "      <td>4288.09</td>\n",
       "    </tr>\n",
       "    <tr>\n",
       "      <th>48841</th>\n",
       "      <td>52</td>\n",
       "      <td>9</td>\n",
       "      <td>&gt;50K</td>\n",
       "      <td>99017.80</td>\n",
       "    </tr>\n",
       "  </tbody>\n",
       "</table>\n",
       "<p>48842 rows × 4 columns</p>\n",
       "</div>"
      ],
      "text/plain": [
       "       age  educational-num income  income_rand\n",
       "0       25                7  <=50K     41485.08\n",
       "1       38                9  <=50K     22375.98\n",
       "2       28               12   >50K     96183.51\n",
       "3       44               10   >50K     63861.73\n",
       "4       18               10  <=50K     46290.18\n",
       "...    ...              ...    ...          ...\n",
       "48837   27               12  <=50K      9428.73\n",
       "48838   40                9   >50K     89589.14\n",
       "48839   58                9  <=50K     21784.67\n",
       "48840   22                9  <=50K      4288.09\n",
       "48841   52                9   >50K     99017.80\n",
       "\n",
       "[48842 rows x 4 columns]"
      ]
     },
     "execution_count": 25,
     "metadata": {},
     "output_type": "execute_result"
    }
   ],
   "source": [
    "df = df[['age','educational-num','income']]\n",
    "df['income_rand'] = df['income'].apply(\n",
    "    lambda x: random.randint(0,5000000)/100 if x == '<=50K' else random.randint(5000000,10000000)/100)\n",
    "df"
   ]
  },
  {
   "cell_type": "code",
   "execution_count": 124,
   "id": "c2f32935",
   "metadata": {},
   "outputs": [
    {
     "data": {
      "text/plain": [
       "0        <=50K\n",
       "1        <=50K\n",
       "2         >50K\n",
       "3         >50K\n",
       "4        <=50K\n",
       "         ...  \n",
       "48837    <=50K\n",
       "48838     >50K\n",
       "48839    <=50K\n",
       "48840    <=50K\n",
       "48841     >50K\n",
       "Name: income, Length: 48842, dtype: object"
      ]
     },
     "execution_count": 124,
     "metadata": {},
     "output_type": "execute_result"
    }
   ],
   "source": [
    "df.income"
   ]
  },
  {
   "cell_type": "code",
   "execution_count": 126,
   "id": "a930402f",
   "metadata": {},
   "outputs": [
    {
     "data": {
      "text/plain": [
       "<=50K    37155\n",
       ">50K     11687\n",
       "Name: income, dtype: int64"
      ]
     },
     "execution_count": 126,
     "metadata": {},
     "output_type": "execute_result"
    }
   ],
   "source": [
    "df.income.value_counts()"
   ]
  },
  {
   "cell_type": "code",
   "execution_count": 14,
   "id": "82f2eebc",
   "metadata": {},
   "outputs": [
    {
     "data": {
      "text/plain": [
       "28120.58    3\n",
       "48352.61    2\n",
       "45271.68    2\n",
       "48052.15    2\n",
       "43906.85    2\n",
       "           ..\n",
       "10605.15    1\n",
       "64298.71    1\n",
       "49925.63    1\n",
       "13529.33    1\n",
       "74764.38    1\n",
       "Name: income_rand, Length: 48689, dtype: int64"
      ]
     },
     "execution_count": 14,
     "metadata": {},
     "output_type": "execute_result"
    }
   ],
   "source": [
    "df.income_rand.value_counts()"
   ]
  },
  {
   "cell_type": "markdown",
   "id": "6cf2932d",
   "metadata": {},
   "source": [
    "## Смотрим проценты и составляем представление о распределении"
   ]
  },
  {
   "cell_type": "code",
   "execution_count": 15,
   "id": "cb2978d1",
   "metadata": {},
   "outputs": [
    {
     "data": {
      "text/plain": [
       "<=50K    0.760718\n",
       ">50K     0.239282\n",
       "Name: income, dtype: float64"
      ]
     },
     "execution_count": 15,
     "metadata": {},
     "output_type": "execute_result"
    }
   ],
   "source": [
    "df['income'].value_counts(normalize=True)"
   ]
  },
  {
   "cell_type": "code",
   "execution_count": 16,
   "id": "6fd52fbd",
   "metadata": {},
   "outputs": [
    {
     "data": {
      "text/plain": [
       "28120.58    0.000061\n",
       "48352.61    0.000041\n",
       "45271.68    0.000041\n",
       "48052.15    0.000041\n",
       "43906.85    0.000041\n",
       "              ...   \n",
       "10605.15    0.000020\n",
       "64298.71    0.000020\n",
       "49925.63    0.000020\n",
       "13529.33    0.000020\n",
       "74764.38    0.000020\n",
       "Name: income_rand, Length: 48689, dtype: float64"
      ]
     },
     "execution_count": 16,
     "metadata": {},
     "output_type": "execute_result"
    }
   ],
   "source": [
    "df['income_rand'].value_counts(normalize=True)"
   ]
  },
  {
   "cell_type": "markdown",
   "id": "3bee779e",
   "metadata": {},
   "source": [
    "## Давайте теперь визуализируем полученный результат"
   ]
  },
  {
   "cell_type": "code",
   "execution_count": 17,
   "id": "263df14d",
   "metadata": {},
   "outputs": [
    {
     "data": {
      "text/plain": [
       "<Axes: >"
      ]
     },
     "execution_count": 17,
     "metadata": {},
     "output_type": "execute_result"
    },
    {
     "data": {
      "image/png": "[encoded data removed]",
      "text/plain": [
       "<Figure size 640x480 with 1 Axes>"
      ]
     },
     "metadata": {},
     "output_type": "display_data"
    }
   ],
   "source": [
    "df['income'].hist()"
   ]
  },
  {
   "cell_type": "code",
   "execution_count": 128,
   "id": "8ac03928",
   "metadata": {},
   "outputs": [
    {
     "data": {
      "text/plain": [
       "<Axes: >"
      ]
     },
     "execution_count": 128,
     "metadata": {},
     "output_type": "execute_result"
    },
    {
     "data": {
      "image/png": "[encoded data removed]",
      "text/plain": [
       "<Figure size 640x480 with 1 Axes>"
      ]
     },
     "metadata": {},
     "output_type": "display_data"
    }
   ],
   "source": [
    "df['income_rand'].hist(bins=100)"
   ]
  },
  {
   "cell_type": "code",
   "execution_count": 22,
   "id": "1241d952",
   "metadata": {},
   "outputs": [
    {
     "data": {
      "text/plain": [
       "<Axes: >"
      ]
     },
     "execution_count": 22,
     "metadata": {},
     "output_type": "execute_result"
    },
    {
     "data": {
      "image/png": "[encoded data removed]",
      "text/plain": [
       "<Figure size 640x480 with 1 Axes>"
      ]
     },
     "metadata": {},
     "output_type": "display_data"
    }
   ],
   "source": [
    "df_zap.fnlwgt.hist(bins = 100)"
   ]
  },
  {
   "cell_type": "code",
   "execution_count": 31,
   "id": "1380e54d",
   "metadata": {},
   "outputs": [
    {
     "data": {
      "text/plain": [
       "<Axes: >"
      ]
     },
     "execution_count": 31,
     "metadata": {},
     "output_type": "execute_result"
    },
    {
     "data": {
      "image/png": "[encoded data removed]",
      "text/plain": [
       "<Figure size 640x480 with 1 Axes>"
      ]
     },
     "metadata": {},
     "output_type": "display_data"
    }
   ],
   "source": [
    "df.age.hist()"
   ]
  },
  {
   "cell_type": "markdown",
   "id": "f75b22b8",
   "metadata": {},
   "source": [
    "## А как получить значения Баров в процентах?"
   ]
  },
  {
   "cell_type": "code",
   "execution_count": 130,
   "id": "2752a38d",
   "metadata": {},
   "outputs": [],
   "source": [
    "#!pip install seaborn"
   ]
  },
  {
   "cell_type": "code",
   "execution_count": 129,
   "id": "4d5da924",
   "metadata": {},
   "outputs": [],
   "source": [
    "import seaborn as sns"
   ]
  },
  {
   "cell_type": "code",
   "execution_count": 32,
   "id": "be7fe447",
   "metadata": {},
   "outputs": [
    {
     "data": {
      "text/plain": [
       "<Axes: xlabel='age', ylabel='Count'>"
      ]
     },
     "execution_count": 32,
     "metadata": {},
     "output_type": "execute_result"
    },
    {
     "data": {
      "image/png": "[encoded data removed]",
      "text/plain": [
       "<Figure size 640x480 with 1 Axes>"
      ]
     },
     "metadata": {},
     "output_type": "display_data"
    }
   ],
   "source": [
    "sns.histplot(df['age'])"
   ]
  },
  {
   "cell_type": "code",
   "execution_count": 33,
   "id": "c1ea1d92",
   "metadata": {},
   "outputs": [
    {
     "data": {
      "text/plain": [
       "<Axes: xlabel='age', ylabel='Probability'>"
      ]
     },
     "execution_count": 33,
     "metadata": {},
     "output_type": "execute_result"
    },
    {
     "data": {
      "image/png": "[encoded data removed]",
      "text/plain": [
       "<Figure size 640x480 with 1 Axes>"
      ]
     },
     "metadata": {},
     "output_type": "display_data"
    }
   ],
   "source": [
    "sns.histplot(df['age'],stat='probability')"
   ]
  },
  {
   "cell_type": "markdown",
   "id": "5a1a7ae5",
   "metadata": {},
   "source": [
    "## Проверка Bins"
   ]
  },
  {
   "cell_type": "code",
   "execution_count": 35,
   "id": "4e6c216c",
   "metadata": {},
   "outputs": [
    {
     "data": {
      "text/html": [
       "<div>\n",
       "<style scoped>\n",
       "    .dataframe tbody tr th:only-of-type {\n",
       "        vertical-align: middle;\n",
       "    }\n",
       "\n",
       "    .dataframe tbody tr th {\n",
       "        vertical-align: top;\n",
       "    }\n",
       "\n",
       "    .dataframe thead th {\n",
       "        text-align: right;\n",
       "    }\n",
       "</style>\n",
       "<table border=\"1\" class=\"dataframe\">\n",
       "  <thead>\n",
       "    <tr style=\"text-align: right;\">\n",
       "      <th></th>\n",
       "      <th>age</th>\n",
       "      <th>educational-num</th>\n",
       "      <th>income</th>\n",
       "      <th>income_rand</th>\n",
       "      <th>income_rand_bin</th>\n",
       "    </tr>\n",
       "  </thead>\n",
       "  <tbody>\n",
       "    <tr>\n",
       "      <th>0</th>\n",
       "      <td>25</td>\n",
       "      <td>7</td>\n",
       "      <td>&lt;=50K</td>\n",
       "      <td>41485.08</td>\n",
       "      <td>(40000.622, 49999.97]</td>\n",
       "    </tr>\n",
       "    <tr>\n",
       "      <th>1</th>\n",
       "      <td>38</td>\n",
       "      <td>9</td>\n",
       "      <td>&lt;=50K</td>\n",
       "      <td>22375.98</td>\n",
       "      <td>(20001.926, 30001.274]</td>\n",
       "    </tr>\n",
       "    <tr>\n",
       "      <th>2</th>\n",
       "      <td>28</td>\n",
       "      <td>12</td>\n",
       "      <td>&gt;50K</td>\n",
       "      <td>96183.51</td>\n",
       "      <td>(89997.362, 99996.71]</td>\n",
       "    </tr>\n",
       "    <tr>\n",
       "      <th>3</th>\n",
       "      <td>44</td>\n",
       "      <td>10</td>\n",
       "      <td>&gt;50K</td>\n",
       "      <td>63861.73</td>\n",
       "      <td>(59999.318, 69998.666]</td>\n",
       "    </tr>\n",
       "    <tr>\n",
       "      <th>4</th>\n",
       "      <td>18</td>\n",
       "      <td>10</td>\n",
       "      <td>&lt;=50K</td>\n",
       "      <td>46290.18</td>\n",
       "      <td>(40000.622, 49999.97]</td>\n",
       "    </tr>\n",
       "    <tr>\n",
       "      <th>...</th>\n",
       "      <td>...</td>\n",
       "      <td>...</td>\n",
       "      <td>...</td>\n",
       "      <td>...</td>\n",
       "      <td>...</td>\n",
       "    </tr>\n",
       "    <tr>\n",
       "      <th>48837</th>\n",
       "      <td>27</td>\n",
       "      <td>12</td>\n",
       "      <td>&lt;=50K</td>\n",
       "      <td>9428.73</td>\n",
       "      <td>(-96.763, 10002.578]</td>\n",
       "    </tr>\n",
       "    <tr>\n",
       "      <th>48838</th>\n",
       "      <td>40</td>\n",
       "      <td>9</td>\n",
       "      <td>&gt;50K</td>\n",
       "      <td>89589.14</td>\n",
       "      <td>(79998.014, 89997.362]</td>\n",
       "    </tr>\n",
       "    <tr>\n",
       "      <th>48839</th>\n",
       "      <td>58</td>\n",
       "      <td>9</td>\n",
       "      <td>&lt;=50K</td>\n",
       "      <td>21784.67</td>\n",
       "      <td>(20001.926, 30001.274]</td>\n",
       "    </tr>\n",
       "    <tr>\n",
       "      <th>48840</th>\n",
       "      <td>22</td>\n",
       "      <td>9</td>\n",
       "      <td>&lt;=50K</td>\n",
       "      <td>4288.09</td>\n",
       "      <td>(-96.763, 10002.578]</td>\n",
       "    </tr>\n",
       "    <tr>\n",
       "      <th>48841</th>\n",
       "      <td>52</td>\n",
       "      <td>9</td>\n",
       "      <td>&gt;50K</td>\n",
       "      <td>99017.80</td>\n",
       "      <td>(89997.362, 99996.71]</td>\n",
       "    </tr>\n",
       "  </tbody>\n",
       "</table>\n",
       "<p>48842 rows × 5 columns</p>\n",
       "</div>"
      ],
      "text/plain": [
       "       age  educational-num income  income_rand         income_rand_bin\n",
       "0       25                7  <=50K     41485.08   (40000.622, 49999.97]\n",
       "1       38                9  <=50K     22375.98  (20001.926, 30001.274]\n",
       "2       28               12   >50K     96183.51   (89997.362, 99996.71]\n",
       "3       44               10   >50K     63861.73  (59999.318, 69998.666]\n",
       "4       18               10  <=50K     46290.18   (40000.622, 49999.97]\n",
       "...    ...              ...    ...          ...                     ...\n",
       "48837   27               12  <=50K      9428.73    (-96.763, 10002.578]\n",
       "48838   40                9   >50K     89589.14  (79998.014, 89997.362]\n",
       "48839   58                9  <=50K     21784.67  (20001.926, 30001.274]\n",
       "48840   22                9  <=50K      4288.09    (-96.763, 10002.578]\n",
       "48841   52                9   >50K     99017.80   (89997.362, 99996.71]\n",
       "\n",
       "[48842 rows x 5 columns]"
      ]
     },
     "execution_count": 35,
     "metadata": {},
     "output_type": "execute_result"
    }
   ],
   "source": [
    "df"
   ]
  },
  {
   "cell_type": "code",
   "execution_count": 37,
   "id": "b5a6a4a3",
   "metadata": {},
   "outputs": [
    {
     "name": "stderr",
     "output_type": "stream",
     "text": [
      "C:\\Users\\v.kovardakov\\AppData\\Local\\Temp\\ipykernel_3584\\783573082.py:1: SettingWithCopyWarning: \n",
      "A value is trying to be set on a copy of a slice from a DataFrame.\n",
      "Try using .loc[row_indexer,col_indexer] = value instead\n",
      "\n",
      "See the caveats in the documentation: https://pandas.pydata.org/pandas-docs/stable/user_guide/indexing.html#returning-a-view-versus-a-copy\n",
      "  df['income_rand_bin'] = pd.cut(df['income_rand'],10)\n"
     ]
    }
   ],
   "source": [
    "df['income_rand_bin'] = pd.cut(df['income_rand'],10)"
   ]
  },
  {
   "cell_type": "code",
   "execution_count": 38,
   "id": "4768c33c",
   "metadata": {},
   "outputs": [
    {
     "data": {
      "text/plain": [
       "48842"
      ]
     },
     "execution_count": 38,
     "metadata": {},
     "output_type": "execute_result"
    }
   ],
   "source": [
    "df.groupby('income_rand_bin')['income_rand'].count()"
   ]
  },
  {
   "cell_type": "code",
   "execution_count": 39,
   "id": "0a73c0a4",
   "metadata": {},
   "outputs": [
    {
     "data": {
      "text/plain": [
       "income_rand_bin\n",
       "(-96.763, 10002.578]      0.152963\n",
       "(10002.578, 20001.926]    0.151837\n",
       "(20001.926, 30001.274]    0.150772\n",
       "(30001.274, 40000.622]    0.154027\n",
       "(40000.622, 49999.97]     0.151120\n",
       "(49999.97, 59999.318]     0.047725\n",
       "(59999.318, 69998.666]    0.047828\n",
       "(69998.666, 79998.014]    0.048053\n",
       "(79998.014, 89997.362]    0.049363\n",
       "(89997.362, 99996.71]     0.046313\n",
       "Name: income_rand, dtype: float64"
      ]
     },
     "execution_count": 39,
     "metadata": {},
     "output_type": "execute_result"
    }
   ],
   "source": [
    "df.groupby('income_rand_bin')['income_rand'].count()/df.groupby('income_rand_bin')['income_rand'].count().sum()"
   ]
  },
  {
   "cell_type": "code",
   "execution_count": 40,
   "id": "0a4add9e",
   "metadata": {
    "scrolled": false
   },
   "outputs": [
    {
     "data": {
      "text/plain": [
       "<Axes: xlabel='income_rand', ylabel='Probability'>"
      ]
     },
     "execution_count": 40,
     "metadata": {},
     "output_type": "execute_result"
    },
    {
     "data": {
      "image/png": "[encoded data removed]",
      "text/plain": [
       "<Figure size 640x480 with 1 Axes>"
      ]
     },
     "metadata": {},
     "output_type": "display_data"
    }
   ],
   "source": [
    "sns.histplot(df['income_rand'],stat='probability', bins = 10)"
   ]
  },
  {
   "cell_type": "markdown",
   "id": "47dc0905",
   "metadata": {},
   "source": [
    "## Среднее - mean()"
   ]
  },
  {
   "cell_type": "code",
   "execution_count": 51,
   "id": "b1ddc4e6",
   "metadata": {},
   "outputs": [
    {
     "name": "stdout",
     "output_type": "stream",
     "text": [
      "Сумма  25\n",
      "Количество  4\n",
      "Среднее  6.25\n"
     ]
    }
   ],
   "source": [
    "l = [1,9,8,7]\n",
    "print('Сумма ',sum(l))\n",
    "print('Количество ',len(l))\n",
    "print('Среднее ',sum(l)/len(l))"
   ]
  },
  {
   "cell_type": "code",
   "execution_count": 41,
   "id": "1d9fd4de",
   "metadata": {},
   "outputs": [
    {
     "data": {
      "text/plain": [
       "38.64358543876172"
      ]
     },
     "execution_count": 41,
     "metadata": {},
     "output_type": "execute_result"
    }
   ],
   "source": [
    "# посчитаем средний возраст\n",
    "df.age.mean()"
   ]
  },
  {
   "cell_type": "code",
   "execution_count": 52,
   "id": "e4fee2d5",
   "metadata": {},
   "outputs": [
    {
     "data": {
      "text/plain": [
       "38.64358543876172"
      ]
     },
     "execution_count": 52,
     "metadata": {},
     "output_type": "execute_result"
    }
   ],
   "source": [
    "## Проверим\n",
    "df.age.sum()/len(df)"
   ]
  },
  {
   "cell_type": "markdown",
   "id": "ad55c823",
   "metadata": {},
   "source": [
    "## Проблема Била Гейтса"
   ]
  },
  {
   "cell_type": "code",
   "execution_count": 70,
   "id": "6e7815c6",
   "metadata": {},
   "outputs": [
    {
     "data": {
      "text/plain": [
       "36955.4113517055"
      ]
     },
     "execution_count": 70,
     "metadata": {},
     "output_type": "execute_result"
    }
   ],
   "source": [
    "df.income_rand.mean()"
   ]
  },
  {
   "cell_type": "code",
   "execution_count": 71,
   "id": "775b1d52",
   "metadata": {},
   "outputs": [],
   "source": [
    "salary = pd.Series([3,3,4,6,5])"
   ]
  },
  {
   "cell_type": "code",
   "execution_count": 72,
   "id": "71863184",
   "metadata": {},
   "outputs": [
    {
     "data": {
      "text/plain": [
       "4.2"
      ]
     },
     "execution_count": 72,
     "metadata": {},
     "output_type": "execute_result"
    }
   ],
   "source": [
    "salary.mean()"
   ]
  },
  {
   "cell_type": "code",
   "execution_count": 73,
   "id": "aad4f646",
   "metadata": {},
   "outputs": [],
   "source": [
    "salary = pd.Series([3,3,4,6,5,1000000])"
   ]
  },
  {
   "cell_type": "code",
   "execution_count": 136,
   "id": "afe08233",
   "metadata": {},
   "outputs": [
    {
     "data": {
      "text/plain": [
       "4.5"
      ]
     },
     "execution_count": 136,
     "metadata": {},
     "output_type": "execute_result"
    }
   ],
   "source": [
    "salary.median()"
   ]
  },
  {
   "cell_type": "markdown",
   "id": "8bc276de",
   "metadata": {},
   "source": [
    "## Наблюдаем жирный хвост"
   ]
  },
  {
   "cell_type": "code",
   "execution_count": 135,
   "id": "9e13337b",
   "metadata": {},
   "outputs": [
    {
     "data": {
      "text/plain": [
       "<Axes: >"
      ]
     },
     "execution_count": 135,
     "metadata": {},
     "output_type": "execute_result"
    },
    {
     "data": {
      "image/png": "[encoded data removed]",
      "text/plain": [
       "<Figure size 640x480 with 1 Axes>"
      ]
     },
     "metadata": {},
     "output_type": "display_data"
    }
   ],
   "source": [
    "salary.hist(bins = 100)"
   ]
  },
  {
   "cell_type": "code",
   "execution_count": 83,
   "id": "44443f8d",
   "metadata": {
    "scrolled": true
   },
   "outputs": [
    {
     "data": {
      "text/plain": [
       "0.5"
      ]
     },
     "execution_count": 83,
     "metadata": {},
     "output_type": "execute_result"
    }
   ],
   "source": [
    "(df['income_rand'] < df['income_rand'].median()).mean() # Считаем проценты рассказать про mean - 1 и 0"
   ]
  },
  {
   "cell_type": "code",
   "execution_count": null,
   "id": "127af4f5",
   "metadata": {},
   "outputs": [],
   "source": []
  },
  {
   "cell_type": "code",
   "execution_count": 77,
   "id": "29bbef60",
   "metadata": {},
   "outputs": [
    {
     "data": {
      "text/html": [
       "<div>\n",
       "<style scoped>\n",
       "    .dataframe tbody tr th:only-of-type {\n",
       "        vertical-align: middle;\n",
       "    }\n",
       "\n",
       "    .dataframe tbody tr th {\n",
       "        vertical-align: top;\n",
       "    }\n",
       "\n",
       "    .dataframe thead th {\n",
       "        text-align: right;\n",
       "    }\n",
       "</style>\n",
       "<table border=\"1\" class=\"dataframe\">\n",
       "  <thead>\n",
       "    <tr style=\"text-align: right;\">\n",
       "      <th></th>\n",
       "      <th>age</th>\n",
       "      <th>educational-num</th>\n",
       "      <th>income</th>\n",
       "      <th>income_rand</th>\n",
       "      <th>income_rand_bin</th>\n",
       "    </tr>\n",
       "  </thead>\n",
       "  <tbody>\n",
       "    <tr>\n",
       "      <th>0</th>\n",
       "      <td>25</td>\n",
       "      <td>7</td>\n",
       "      <td>&lt;=50K</td>\n",
       "      <td>41485.08</td>\n",
       "      <td>(40000.622, 49999.97]</td>\n",
       "    </tr>\n",
       "    <tr>\n",
       "      <th>1</th>\n",
       "      <td>38</td>\n",
       "      <td>9</td>\n",
       "      <td>&lt;=50K</td>\n",
       "      <td>22375.98</td>\n",
       "      <td>(20001.926, 30001.274]</td>\n",
       "    </tr>\n",
       "    <tr>\n",
       "      <th>2</th>\n",
       "      <td>28</td>\n",
       "      <td>12</td>\n",
       "      <td>&gt;50K</td>\n",
       "      <td>96183.51</td>\n",
       "      <td>(89997.362, 99996.71]</td>\n",
       "    </tr>\n",
       "    <tr>\n",
       "      <th>3</th>\n",
       "      <td>44</td>\n",
       "      <td>10</td>\n",
       "      <td>&gt;50K</td>\n",
       "      <td>63861.73</td>\n",
       "      <td>(59999.318, 69998.666]</td>\n",
       "    </tr>\n",
       "    <tr>\n",
       "      <th>4</th>\n",
       "      <td>18</td>\n",
       "      <td>10</td>\n",
       "      <td>&lt;=50K</td>\n",
       "      <td>46290.18</td>\n",
       "      <td>(40000.622, 49999.97]</td>\n",
       "    </tr>\n",
       "  </tbody>\n",
       "</table>\n",
       "</div>"
      ],
      "text/plain": [
       "   age  educational-num income  income_rand         income_rand_bin\n",
       "0   25                7  <=50K     41485.08   (40000.622, 49999.97]\n",
       "1   38                9  <=50K     22375.98  (20001.926, 30001.274]\n",
       "2   28               12   >50K     96183.51   (89997.362, 99996.71]\n",
       "3   44               10   >50K     63861.73  (59999.318, 69998.666]\n",
       "4   18               10  <=50K     46290.18   (40000.622, 49999.97]"
      ]
     },
     "execution_count": 77,
     "metadata": {},
     "output_type": "execute_result"
    }
   ],
   "source": [
    "df.head()"
   ]
  },
  {
   "cell_type": "markdown",
   "id": "038a443f",
   "metadata": {},
   "source": [
    "## Мода - разрушаем мифы\n",
    "Самае частое значение (Топ 1)"
   ]
  },
  {
   "cell_type": "code",
   "execution_count": 138,
   "id": "90e92a49",
   "metadata": {},
   "outputs": [
    {
     "data": {
      "text/html": [
       "<div>\n",
       "<style scoped>\n",
       "    .dataframe tbody tr th:only-of-type {\n",
       "        vertical-align: middle;\n",
       "    }\n",
       "\n",
       "    .dataframe tbody tr th {\n",
       "        vertical-align: top;\n",
       "    }\n",
       "\n",
       "    .dataframe thead th {\n",
       "        text-align: right;\n",
       "    }\n",
       "</style>\n",
       "<table border=\"1\" class=\"dataframe\">\n",
       "  <thead>\n",
       "    <tr style=\"text-align: right;\">\n",
       "      <th></th>\n",
       "      <th>age</th>\n",
       "      <th>educational-num</th>\n",
       "      <th>income</th>\n",
       "      <th>income_rand</th>\n",
       "      <th>income_rand_bin</th>\n",
       "      <th>pct</th>\n",
       "    </tr>\n",
       "  </thead>\n",
       "  <tbody>\n",
       "    <tr>\n",
       "      <th>0</th>\n",
       "      <td>25</td>\n",
       "      <td>7</td>\n",
       "      <td>&lt;=50K</td>\n",
       "      <td>41485.08</td>\n",
       "      <td>(40000.622, 49999.97]</td>\n",
       "      <td>0.631301</td>\n",
       "    </tr>\n",
       "    <tr>\n",
       "      <th>1</th>\n",
       "      <td>38</td>\n",
       "      <td>9</td>\n",
       "      <td>&lt;=50K</td>\n",
       "      <td>22375.98</td>\n",
       "      <td>(20001.926, 30001.274]</td>\n",
       "      <td>0.339237</td>\n",
       "    </tr>\n",
       "    <tr>\n",
       "      <th>2</th>\n",
       "      <td>28</td>\n",
       "      <td>12</td>\n",
       "      <td>&gt;50K</td>\n",
       "      <td>96183.51</td>\n",
       "      <td>(89997.362, 99996.71]</td>\n",
       "      <td>0.982187</td>\n",
       "    </tr>\n",
       "    <tr>\n",
       "      <th>3</th>\n",
       "      <td>44</td>\n",
       "      <td>10</td>\n",
       "      <td>&gt;50K</td>\n",
       "      <td>63861.73</td>\n",
       "      <td>(59999.318, 69998.666]</td>\n",
       "      <td>0.827157</td>\n",
       "    </tr>\n",
       "    <tr>\n",
       "      <th>4</th>\n",
       "      <td>18</td>\n",
       "      <td>10</td>\n",
       "      <td>&lt;=50K</td>\n",
       "      <td>46290.18</td>\n",
       "      <td>(40000.622, 49999.97]</td>\n",
       "      <td>0.704455</td>\n",
       "    </tr>\n",
       "  </tbody>\n",
       "</table>\n",
       "</div>"
      ],
      "text/plain": [
       "   age  educational-num income  income_rand         income_rand_bin       pct\n",
       "0   25                7  <=50K     41485.08   (40000.622, 49999.97]  0.631301\n",
       "1   38                9  <=50K     22375.98  (20001.926, 30001.274]  0.339237\n",
       "2   28               12   >50K     96183.51   (89997.362, 99996.71]  0.982187\n",
       "3   44               10   >50K     63861.73  (59999.318, 69998.666]  0.827157\n",
       "4   18               10  <=50K     46290.18   (40000.622, 49999.97]  0.704455"
      ]
     },
     "execution_count": 138,
     "metadata": {},
     "output_type": "execute_result"
    }
   ],
   "source": [
    "df.head()"
   ]
  },
  {
   "cell_type": "code",
   "execution_count": 79,
   "id": "e2a5dba3",
   "metadata": {},
   "outputs": [
    {
     "data": {
      "text/plain": [
       "0    9\n",
       "Name: educational-num, dtype: int64"
      ]
     },
     "execution_count": 79,
     "metadata": {},
     "output_type": "execute_result"
    }
   ],
   "source": [
    "df['educational-num'].mode()"
   ]
  },
  {
   "cell_type": "code",
   "execution_count": 80,
   "id": "6a2fc03c",
   "metadata": {},
   "outputs": [
    {
     "data": {
      "text/plain": [
       "9     15784\n",
       "10    10878\n",
       "13     8025\n",
       "14     2657\n",
       "11     2061\n",
       "7      1812\n",
       "12     1601\n",
       "6      1389\n",
       "4       955\n",
       "15      834\n",
       "5       756\n",
       "8       657\n",
       "16      594\n",
       "3       509\n",
       "2       247\n",
       "1        83\n",
       "Name: educational-num, dtype: int64"
      ]
     },
     "execution_count": 80,
     "metadata": {},
     "output_type": "execute_result"
    }
   ],
   "source": [
    "df['educational-num'].value_counts()"
   ]
  },
  {
   "cell_type": "code",
   "execution_count": 81,
   "id": "cd29bc03",
   "metadata": {},
   "outputs": [
    {
     "data": {
      "text/plain": [
       "0        219.50\n",
       "1        731.66\n",
       "2        785.22\n",
       "3       1108.30\n",
       "4       1342.57\n",
       "         ...   \n",
       "142    87602.52\n",
       "143    90383.62\n",
       "144    91724.32\n",
       "145    92509.90\n",
       "146    99766.23\n",
       "Name: income_rand, Length: 147, dtype: float64"
      ]
     },
     "execution_count": 81,
     "metadata": {},
     "output_type": "execute_result"
    }
   ],
   "source": [
    "# Для непрерывной переменной мода не имеет смысла\n",
    "df['income_rand'].mode()"
   ]
  },
  {
   "cell_type": "code",
   "execution_count": 82,
   "id": "9b9d1331",
   "metadata": {},
   "outputs": [
    {
     "data": {
      "text/plain": [
       "219.50      2\n",
       "62921.93    2\n",
       "32782.60    2\n",
       "1342.57     2\n",
       "3553.35     2\n",
       "           ..\n",
       "56712.66    1\n",
       "57860.10    1\n",
       "94229.96    1\n",
       "96993.30    1\n",
       "99017.80    1\n",
       "Name: income_rand, Length: 48695, dtype: int64"
      ]
     },
     "execution_count": 82,
     "metadata": {},
     "output_type": "execute_result"
    }
   ],
   "source": [
    "df['income_rand'].value_counts()"
   ]
  },
  {
   "cell_type": "code",
   "execution_count": 84,
   "id": "18dc9653",
   "metadata": {},
   "outputs": [
    {
     "data": {
      "text/plain": [
       "mean      36955.411352\n",
       "median    32921.115000\n",
       "Name: income_rand, dtype: float64"
      ]
     },
     "execution_count": 84,
     "metadata": {},
     "output_type": "execute_result"
    }
   ],
   "source": [
    "df['income_rand'].agg(['mean','median'])"
   ]
  },
  {
   "cell_type": "code",
   "execution_count": null,
   "id": "7aa05953",
   "metadata": {},
   "outputs": [],
   "source": [
    "[1,2,3,4,5,6,7,8,9,10]"
   ]
  },
  {
   "cell_type": "code",
   "execution_count": 85,
   "id": "9938b30f",
   "metadata": {},
   "outputs": [
    {
     "data": {
      "text/plain": [
       "<Axes: >"
      ]
     },
     "execution_count": 85,
     "metadata": {},
     "output_type": "execute_result"
    },
    {
     "data": {
      "image/png": "[encoded data removed]",
      "text/plain": [
       "<Figure size 640x480 with 1 Axes>"
      ]
     },
     "metadata": {},
     "output_type": "display_data"
    }
   ],
   "source": [
    "df['income_rand'].hist()"
   ]
  },
  {
   "cell_type": "code",
   "execution_count": 140,
   "id": "fd8dc471",
   "metadata": {},
   "outputs": [
    {
     "data": {
      "text/plain": [
       "0        41485.08\n",
       "1        22375.98\n",
       "2        96183.51\n",
       "3        63861.73\n",
       "4        46290.18\n",
       "           ...   \n",
       "48837     9428.73\n",
       "48838    89589.14\n",
       "48839    21784.67\n",
       "48840     4288.09\n",
       "48841    99017.80\n",
       "Name: income_rand, Length: 48842, dtype: float64"
      ]
     },
     "execution_count": 140,
     "metadata": {},
     "output_type": "execute_result"
    }
   ],
   "source": [
    "df['income_rand']"
   ]
  },
  {
   "cell_type": "code",
   "execution_count": 141,
   "id": "75ecec93",
   "metadata": {},
   "outputs": [
    {
     "data": {
      "text/plain": [
       "0.5"
      ]
     },
     "execution_count": 141,
     "metadata": {},
     "output_type": "execute_result"
    }
   ],
   "source": [
    "(df['income_rand'] < 32921.115000).mean()"
   ]
  },
  {
   "cell_type": "code",
   "execution_count": 144,
   "id": "927c77b9",
   "metadata": {},
   "outputs": [
    {
     "data": {
      "text/plain": [
       "0.7607182343065395"
      ]
     },
     "execution_count": 144,
     "metadata": {},
     "output_type": "execute_result"
    }
   ],
   "source": [
    "# У скольких процентов участников зарплата меньше 50 000\n",
    "(df['income_rand'] <= 50000).mean() # У 76% людей зарплата больше 50 000 - Сейчас мы посчиталь квантиль (процентиль/100 он в %)"
   ]
  },
  {
   "cell_type": "markdown",
   "id": "05bd8c17",
   "metadata": {},
   "source": [
    "## Процентиль"
   ]
  },
  {
   "cell_type": "code",
   "execution_count": 146,
   "id": "edb7f87b",
   "metadata": {},
   "outputs": [
    {
     "data": {
      "text/plain": [
       "49998.33448507432"
      ]
     },
     "execution_count": 146,
     "metadata": {},
     "output_type": "execute_result"
    }
   ],
   "source": [
    "df['income_rand'].quantile(0.7607182343065395)"
   ]
  },
  {
   "cell_type": "code",
   "execution_count": 95,
   "id": "73ed8785",
   "metadata": {},
   "outputs": [
    {
     "data": {
      "text/plain": [
       "0.7600016379345645"
      ]
     },
     "execution_count": 95,
     "metadata": {},
     "output_type": "execute_result"
    }
   ],
   "source": [
    "(df['income_rand'] < df['income_rand'].quantile(0.76)).mean()"
   ]
  },
  {
   "cell_type": "markdown",
   "id": "1a43c777",
   "metadata": {},
   "source": [
    "### Есть важные процентили - это Квартили\n",
    "- 25%\n",
    "- 50%\n",
    "- 75%"
   ]
  },
  {
   "cell_type": "code",
   "execution_count": 96,
   "id": "5fb275f2",
   "metadata": {},
   "outputs": [
    {
     "name": "stdout",
     "output_type": "stream",
     "text": [
      "16375.225\n",
      "32921.115\n",
      "49259.7\n"
     ]
    }
   ],
   "source": [
    "# Посмотрим на них\n",
    "print(df['income_rand'].quantile(0.25))\n",
    "print(df['income_rand'].quantile(0.5))\n",
    "print(df['income_rand'].quantile(0.75))"
   ]
  },
  {
   "cell_type": "markdown",
   "id": "f0836782",
   "metadata": {},
   "source": [
    "### А теперь рассмотрим как сделать на все значения процентили"
   ]
  },
  {
   "cell_type": "code",
   "execution_count": 98,
   "id": "805a6458",
   "metadata": {},
   "outputs": [
    {
     "data": {
      "text/html": [
       "<div>\n",
       "<style scoped>\n",
       "    .dataframe tbody tr th:only-of-type {\n",
       "        vertical-align: middle;\n",
       "    }\n",
       "\n",
       "    .dataframe tbody tr th {\n",
       "        vertical-align: top;\n",
       "    }\n",
       "\n",
       "    .dataframe thead th {\n",
       "        text-align: right;\n",
       "    }\n",
       "</style>\n",
       "<table border=\"1\" class=\"dataframe\">\n",
       "  <thead>\n",
       "    <tr style=\"text-align: right;\">\n",
       "      <th></th>\n",
       "      <th>age</th>\n",
       "      <th>educational-num</th>\n",
       "      <th>income</th>\n",
       "      <th>income_rand</th>\n",
       "      <th>income_rand_bin</th>\n",
       "      <th>pct</th>\n",
       "    </tr>\n",
       "  </thead>\n",
       "  <tbody>\n",
       "    <tr>\n",
       "      <th>0</th>\n",
       "      <td>25</td>\n",
       "      <td>7</td>\n",
       "      <td>&lt;=50K</td>\n",
       "      <td>41485.08</td>\n",
       "      <td>(40000.622, 49999.97]</td>\n",
       "      <td>0.631301</td>\n",
       "    </tr>\n",
       "    <tr>\n",
       "      <th>1</th>\n",
       "      <td>38</td>\n",
       "      <td>9</td>\n",
       "      <td>&lt;=50K</td>\n",
       "      <td>22375.98</td>\n",
       "      <td>(20001.926, 30001.274]</td>\n",
       "      <td>0.339237</td>\n",
       "    </tr>\n",
       "    <tr>\n",
       "      <th>2</th>\n",
       "      <td>28</td>\n",
       "      <td>12</td>\n",
       "      <td>&gt;50K</td>\n",
       "      <td>96183.51</td>\n",
       "      <td>(89997.362, 99996.71]</td>\n",
       "      <td>0.982187</td>\n",
       "    </tr>\n",
       "    <tr>\n",
       "      <th>3</th>\n",
       "      <td>44</td>\n",
       "      <td>10</td>\n",
       "      <td>&gt;50K</td>\n",
       "      <td>63861.73</td>\n",
       "      <td>(59999.318, 69998.666]</td>\n",
       "      <td>0.827157</td>\n",
       "    </tr>\n",
       "    <tr>\n",
       "      <th>4</th>\n",
       "      <td>18</td>\n",
       "      <td>10</td>\n",
       "      <td>&lt;=50K</td>\n",
       "      <td>46290.18</td>\n",
       "      <td>(40000.622, 49999.97]</td>\n",
       "      <td>0.704455</td>\n",
       "    </tr>\n",
       "    <tr>\n",
       "      <th>...</th>\n",
       "      <td>...</td>\n",
       "      <td>...</td>\n",
       "      <td>...</td>\n",
       "      <td>...</td>\n",
       "      <td>...</td>\n",
       "      <td>...</td>\n",
       "    </tr>\n",
       "    <tr>\n",
       "      <th>48837</th>\n",
       "      <td>27</td>\n",
       "      <td>12</td>\n",
       "      <td>&lt;=50K</td>\n",
       "      <td>9428.73</td>\n",
       "      <td>(-96.763, 10002.578]</td>\n",
       "      <td>0.144241</td>\n",
       "    </tr>\n",
       "    <tr>\n",
       "      <th>48838</th>\n",
       "      <td>40</td>\n",
       "      <td>9</td>\n",
       "      <td>&gt;50K</td>\n",
       "      <td>89589.14</td>\n",
       "      <td>(79998.014, 89997.362]</td>\n",
       "      <td>0.951660</td>\n",
       "    </tr>\n",
       "    <tr>\n",
       "      <th>48839</th>\n",
       "      <td>58</td>\n",
       "      <td>9</td>\n",
       "      <td>&lt;=50K</td>\n",
       "      <td>21784.67</td>\n",
       "      <td>(20001.926, 30001.274]</td>\n",
       "      <td>0.329880</td>\n",
       "    </tr>\n",
       "    <tr>\n",
       "      <th>48840</th>\n",
       "      <td>22</td>\n",
       "      <td>9</td>\n",
       "      <td>&lt;=50K</td>\n",
       "      <td>4288.09</td>\n",
       "      <td>(-96.763, 10002.578]</td>\n",
       "      <td>0.064248</td>\n",
       "    </tr>\n",
       "    <tr>\n",
       "      <th>48841</th>\n",
       "      <td>52</td>\n",
       "      <td>9</td>\n",
       "      <td>&gt;50K</td>\n",
       "      <td>99017.80</td>\n",
       "      <td>(89997.362, 99996.71]</td>\n",
       "      <td>0.994922</td>\n",
       "    </tr>\n",
       "  </tbody>\n",
       "</table>\n",
       "<p>48842 rows × 6 columns</p>\n",
       "</div>"
      ],
      "text/plain": [
       "       age  educational-num income  income_rand         income_rand_bin  \\\n",
       "0       25                7  <=50K     41485.08   (40000.622, 49999.97]   \n",
       "1       38                9  <=50K     22375.98  (20001.926, 30001.274]   \n",
       "2       28               12   >50K     96183.51   (89997.362, 99996.71]   \n",
       "3       44               10   >50K     63861.73  (59999.318, 69998.666]   \n",
       "4       18               10  <=50K     46290.18   (40000.622, 49999.97]   \n",
       "...    ...              ...    ...          ...                     ...   \n",
       "48837   27               12  <=50K      9428.73    (-96.763, 10002.578]   \n",
       "48838   40                9   >50K     89589.14  (79998.014, 89997.362]   \n",
       "48839   58                9  <=50K     21784.67  (20001.926, 30001.274]   \n",
       "48840   22                9  <=50K      4288.09    (-96.763, 10002.578]   \n",
       "48841   52                9   >50K     99017.80   (89997.362, 99996.71]   \n",
       "\n",
       "            pct  \n",
       "0      0.631301  \n",
       "1      0.339237  \n",
       "2      0.982187  \n",
       "3      0.827157  \n",
       "4      0.704455  \n",
       "...         ...  \n",
       "48837  0.144241  \n",
       "48838  0.951660  \n",
       "48839  0.329880  \n",
       "48840  0.064248  \n",
       "48841  0.994922  \n",
       "\n",
       "[48842 rows x 6 columns]"
      ]
     },
     "execution_count": 98,
     "metadata": {},
     "output_type": "execute_result"
    }
   ],
   "source": [
    "# Будут значения немного различаться мб в библиотеку заглянуть\n",
    "df['pct'] = df['income_rand'].rank(pct=True)\n",
    "df"
   ]
  },
  {
   "cell_type": "markdown",
   "id": "6c04c14d",
   "metadata": {},
   "source": [
    "## Boxplot\n",
    "Подходит для симметричных распределений"
   ]
  },
  {
   "cell_type": "code",
   "execution_count": 100,
   "id": "d3e2d32f",
   "metadata": {},
   "outputs": [
    {
     "data": {
      "text/plain": [
       "<Axes: >"
      ]
     },
     "execution_count": 100,
     "metadata": {},
     "output_type": "execute_result"
    },
    {
     "data": {
      "image/png": "[encoded data removed]",
      "text/plain": [
       "<Figure size 640x480 with 1 Axes>"
      ]
     },
     "metadata": {},
     "output_type": "display_data"
    }
   ],
   "source": [
    "\n",
    "df.boxplot('income_rand') \n",
    "# Усы - 1.5 межквартильных размаха - правило трех сигм\n",
    "# Прямоугольник указывает на квартили\n",
    "# Черные точки это выбросы - правило трех сигм"
   ]
  },
  {
   "cell_type": "code",
   "execution_count": 102,
   "id": "93ee3f1c",
   "metadata": {},
   "outputs": [
    {
     "data": {
      "text/plain": [
       "<Axes: >"
      ]
     },
     "execution_count": 102,
     "metadata": {},
     "output_type": "execute_result"
    },
    {
     "data": {
      "image/png": "[encoded data removed]",
      "text/plain": [
       "<Figure size 640x480 with 1 Axes>"
      ]
     },
     "metadata": {},
     "output_type": "display_data"
    }
   ],
   "source": [
    "df.boxplot('age') # Здесь выбросы есть, но в нашей интерпретации это может не являться выбросом\n",
    "# Например киты в геймдеве"
   ]
  },
  {
   "cell_type": "code",
   "execution_count": 105,
   "id": "adf21b35",
   "metadata": {},
   "outputs": [
    {
     "data": {
      "text/plain": [
       "<Axes: >"
      ]
     },
     "execution_count": 105,
     "metadata": {},
     "output_type": "execute_result"
    },
    {
     "data": {
      "image/png": "[encoded data removed]",
      "text/plain": [
       "<Figure size 640x480 with 1 Axes>"
      ]
     },
     "metadata": {},
     "output_type": "display_data"
    }
   ],
   "source": [
    "sns.boxplot(df['age'])"
   ]
  },
  {
   "cell_type": "code",
   "execution_count": 106,
   "id": "663c29b5",
   "metadata": {},
   "outputs": [
    {
     "data": {
      "text/plain": [
       "<Axes: >"
      ]
     },
     "execution_count": 106,
     "metadata": {},
     "output_type": "execute_result"
    },
    {
     "data": {
      "image/png": "[encoded data removed]",
      "text/plain": [
       "<Figure size 640x480 with 1 Axes>"
      ]
     },
     "metadata": {},
     "output_type": "display_data"
    }
   ],
   "source": [
    "df['age'].hist()"
   ]
  },
  {
   "cell_type": "markdown",
   "id": "06e7aea1",
   "metadata": {},
   "source": [
    "### Поздравляю, мы собрали справку!"
   ]
  },
  {
   "cell_type": "code",
   "execution_count": 107,
   "id": "a47cf848",
   "metadata": {},
   "outputs": [
    {
     "data": {
      "text/plain": [
       "count    48842.000000\n",
       "mean        38.643585\n",
       "std         13.710510\n",
       "min         17.000000\n",
       "25%         28.000000\n",
       "50%         37.000000\n",
       "75%         48.000000\n",
       "max         90.000000\n",
       "Name: age, dtype: float64"
      ]
     },
     "execution_count": 107,
     "metadata": {},
     "output_type": "execute_result"
    }
   ],
   "source": [
    "df['age'].describe()"
   ]
  },
  {
   "cell_type": "markdown",
   "id": "ef7eca59",
   "metadata": {},
   "source": [
    "## Немного хейта"
   ]
  },
  {
   "cell_type": "markdown",
   "id": "9f55649c",
   "metadata": {},
   "source": [
    "### Дисперсия и среднеквадратичное отклонение"
   ]
  },
  {
   "cell_type": "code",
   "execution_count": 114,
   "id": "d79c6d12",
   "metadata": {},
   "outputs": [
    {
     "data": {
      "text/plain": [
       "187.97423396498843"
      ]
     },
     "execution_count": 114,
     "metadata": {},
     "output_type": "execute_result"
    }
   ],
   "source": [
    "((df['age'] - df['age'].mean())**2).mean() # Дисперсия"
   ]
  },
  {
   "cell_type": "code",
   "execution_count": 115,
   "id": "3d53b1e6",
   "metadata": {},
   "outputs": [
    {
     "data": {
      "text/plain": [
       "13.71036957798689"
      ]
     },
     "execution_count": 115,
     "metadata": {},
     "output_type": "execute_result"
    }
   ],
   "source": [
    "# pd.set_option('display.float_format', lambda x: '%.3f' % x)\n",
    "np.sqrt(((df['age'] - df['age'].mean())**2).mean()) # СТД Среднеквадратичное отклонение"
   ]
  },
  {
   "cell_type": "code",
   "execution_count": 113,
   "id": "c95528d3",
   "metadata": {},
   "outputs": [
    {
     "data": {
      "text/plain": [
       "13.710509934443557"
      ]
     },
     "execution_count": 113,
     "metadata": {},
     "output_type": "execute_result"
    }
   ],
   "source": [
    "np.sqrt(((df['age'] - df['age'].mean())**2).sum() / (len(df)-1))\n",
    "# (len(df)-1) - степени свободы, поэтому точнее по формуле, просто будем знать."
   ]
  },
  {
   "cell_type": "markdown",
   "id": "0eeb65cf",
   "metadata": {},
   "source": [
    "### Вместо среднеквадратичного отклонения, можно смотреть среднее абсолютное отклонение \n",
    "- Вместо STD используем MAD"
   ]
  },
  {
   "cell_type": "code",
   "execution_count": 117,
   "id": "526d1a45",
   "metadata": {},
   "outputs": [
    {
     "data": {
      "text/plain": [
       "11.24369987888416"
      ]
     },
     "execution_count": 117,
     "metadata": {},
     "output_type": "execute_result"
    }
   ],
   "source": [
    "(df['age'] - df['age'].mean()).abs().mean()"
   ]
  },
  {
   "cell_type": "markdown",
   "id": "f7fdb35d",
   "metadata": {},
   "source": [
    "### Корреляция"
   ]
  },
  {
   "attachments": {
    "image.png": {
     "image/png": "[encoded data removed]"
    }
   },
   "cell_type": "markdown",
   "id": "ca484651",
   "metadata": {},
   "source": [
    "Так же стоит помнить, что корреляция работает схожим образом, и она может ввести в заблуждение.\\\n",
    "https://en.wikipedia.org/wiki/Correlation\n",
    "\n",
    "![image.png](attachment:image.png)"
   ]
  },
  {
   "cell_type": "code",
   "execution_count": 118,
   "id": "799741ab",
   "metadata": {},
   "outputs": [
    {
     "data": {
      "text/html": [
       "<div>\n",
       "<style scoped>\n",
       "    .dataframe tbody tr th:only-of-type {\n",
       "        vertical-align: middle;\n",
       "    }\n",
       "\n",
       "    .dataframe tbody tr th {\n",
       "        vertical-align: top;\n",
       "    }\n",
       "\n",
       "    .dataframe thead th {\n",
       "        text-align: right;\n",
       "    }\n",
       "</style>\n",
       "<table border=\"1\" class=\"dataframe\">\n",
       "  <thead>\n",
       "    <tr style=\"text-align: right;\">\n",
       "      <th></th>\n",
       "      <th>age</th>\n",
       "      <th>income_rand</th>\n",
       "    </tr>\n",
       "  </thead>\n",
       "  <tbody>\n",
       "    <tr>\n",
       "      <th>age</th>\n",
       "      <td>1.000000</td>\n",
       "      <td>0.192459</td>\n",
       "    </tr>\n",
       "    <tr>\n",
       "      <th>income_rand</th>\n",
       "      <td>0.192459</td>\n",
       "      <td>1.000000</td>\n",
       "    </tr>\n",
       "  </tbody>\n",
       "</table>\n",
       "</div>"
      ],
      "text/plain": [
       "                  age  income_rand\n",
       "age          1.000000     0.192459\n",
       "income_rand  0.192459     1.000000"
      ]
     },
     "execution_count": 118,
     "metadata": {},
     "output_type": "execute_result"
    }
   ],
   "source": [
    "df[['age','income_rand']].corr()"
   ]
  },
  {
   "cell_type": "code",
   "execution_count": 121,
   "id": "4f7d9cbd",
   "metadata": {},
   "outputs": [
    {
     "data": {
      "text/html": [
       "<div>\n",
       "<style scoped>\n",
       "    .dataframe tbody tr th:only-of-type {\n",
       "        vertical-align: middle;\n",
       "    }\n",
       "\n",
       "    .dataframe tbody tr th {\n",
       "        vertical-align: top;\n",
       "    }\n",
       "\n",
       "    .dataframe thead th {\n",
       "        text-align: right;\n",
       "    }\n",
       "</style>\n",
       "<table border=\"1\" class=\"dataframe\">\n",
       "  <thead>\n",
       "    <tr style=\"text-align: right;\">\n",
       "      <th></th>\n",
       "      <th>count</th>\n",
       "      <th>mean</th>\n",
       "      <th>median</th>\n",
       "    </tr>\n",
       "    <tr>\n",
       "      <th>income_rand_bin</th>\n",
       "      <th></th>\n",
       "      <th></th>\n",
       "      <th></th>\n",
       "    </tr>\n",
       "  </thead>\n",
       "  <tbody>\n",
       "    <tr>\n",
       "      <th>(-96.763, 10002.578]</th>\n",
       "      <td>7471</td>\n",
       "      <td>36.876322</td>\n",
       "      <td>34.0</td>\n",
       "    </tr>\n",
       "    <tr>\n",
       "      <th>(10002.578, 20001.926]</th>\n",
       "      <td>7416</td>\n",
       "      <td>36.572816</td>\n",
       "      <td>34.0</td>\n",
       "    </tr>\n",
       "    <tr>\n",
       "      <th>(20001.926, 30001.274]</th>\n",
       "      <td>7364</td>\n",
       "      <td>36.963199</td>\n",
       "      <td>34.0</td>\n",
       "    </tr>\n",
       "    <tr>\n",
       "      <th>(30001.274, 40000.622]</th>\n",
       "      <td>7523</td>\n",
       "      <td>36.839559</td>\n",
       "      <td>34.0</td>\n",
       "    </tr>\n",
       "    <tr>\n",
       "      <th>(40000.622, 49999.97]</th>\n",
       "      <td>7381</td>\n",
       "      <td>37.111232</td>\n",
       "      <td>35.0</td>\n",
       "    </tr>\n",
       "    <tr>\n",
       "      <th>(49999.97, 59999.318]</th>\n",
       "      <td>2331</td>\n",
       "      <td>44.432861</td>\n",
       "      <td>44.0</td>\n",
       "    </tr>\n",
       "    <tr>\n",
       "      <th>(59999.318, 69998.666]</th>\n",
       "      <td>2336</td>\n",
       "      <td>44.239726</td>\n",
       "      <td>43.0</td>\n",
       "    </tr>\n",
       "    <tr>\n",
       "      <th>(69998.666, 79998.014]</th>\n",
       "      <td>2347</td>\n",
       "      <td>44.510013</td>\n",
       "      <td>44.0</td>\n",
       "    </tr>\n",
       "    <tr>\n",
       "      <th>(79998.014, 89997.362]</th>\n",
       "      <td>2411</td>\n",
       "      <td>44.335960</td>\n",
       "      <td>43.0</td>\n",
       "    </tr>\n",
       "    <tr>\n",
       "      <th>(89997.362, 99996.71]</th>\n",
       "      <td>2262</td>\n",
       "      <td>43.840849</td>\n",
       "      <td>43.0</td>\n",
       "    </tr>\n",
       "  </tbody>\n",
       "</table>\n",
       "</div>"
      ],
      "text/plain": [
       "                        count       mean  median\n",
       "income_rand_bin                                 \n",
       "(-96.763, 10002.578]     7471  36.876322    34.0\n",
       "(10002.578, 20001.926]   7416  36.572816    34.0\n",
       "(20001.926, 30001.274]   7364  36.963199    34.0\n",
       "(30001.274, 40000.622]   7523  36.839559    34.0\n",
       "(40000.622, 49999.97]    7381  37.111232    35.0\n",
       "(49999.97, 59999.318]    2331  44.432861    44.0\n",
       "(59999.318, 69998.666]   2336  44.239726    43.0\n",
       "(69998.666, 79998.014]   2347  44.510013    44.0\n",
       "(79998.014, 89997.362]   2411  44.335960    43.0\n",
       "(89997.362, 99996.71]    2262  43.840849    43.0"
      ]
     },
     "execution_count": 121,
     "metadata": {},
     "output_type": "execute_result"
    }
   ],
   "source": [
    "df.groupby('income_rand_bin')['age'].agg(['count','mean','median'])"
   ]
  },
  {
   "cell_type": "code",
   "execution_count": 119,
   "id": "bc8fbf5e",
   "metadata": {},
   "outputs": [
    {
     "data": {
      "text/html": [
       "<div>\n",
       "<style scoped>\n",
       "    .dataframe tbody tr th:only-of-type {\n",
       "        vertical-align: middle;\n",
       "    }\n",
       "\n",
       "    .dataframe tbody tr th {\n",
       "        vertical-align: top;\n",
       "    }\n",
       "\n",
       "    .dataframe thead th {\n",
       "        text-align: right;\n",
       "    }\n",
       "</style>\n",
       "<table border=\"1\" class=\"dataframe\">\n",
       "  <thead>\n",
       "    <tr style=\"text-align: right;\">\n",
       "      <th></th>\n",
       "      <th>age</th>\n",
       "      <th>educational-num</th>\n",
       "      <th>income</th>\n",
       "      <th>income_rand</th>\n",
       "      <th>income_rand_bin</th>\n",
       "      <th>pct</th>\n",
       "    </tr>\n",
       "  </thead>\n",
       "  <tbody>\n",
       "    <tr>\n",
       "      <th>0</th>\n",
       "      <td>25</td>\n",
       "      <td>7</td>\n",
       "      <td>&lt;=50K</td>\n",
       "      <td>41485.08</td>\n",
       "      <td>(40000.622, 49999.97]</td>\n",
       "      <td>0.631301</td>\n",
       "    </tr>\n",
       "    <tr>\n",
       "      <th>1</th>\n",
       "      <td>38</td>\n",
       "      <td>9</td>\n",
       "      <td>&lt;=50K</td>\n",
       "      <td>22375.98</td>\n",
       "      <td>(20001.926, 30001.274]</td>\n",
       "      <td>0.339237</td>\n",
       "    </tr>\n",
       "    <tr>\n",
       "      <th>2</th>\n",
       "      <td>28</td>\n",
       "      <td>12</td>\n",
       "      <td>&gt;50K</td>\n",
       "      <td>96183.51</td>\n",
       "      <td>(89997.362, 99996.71]</td>\n",
       "      <td>0.982187</td>\n",
       "    </tr>\n",
       "    <tr>\n",
       "      <th>3</th>\n",
       "      <td>44</td>\n",
       "      <td>10</td>\n",
       "      <td>&gt;50K</td>\n",
       "      <td>63861.73</td>\n",
       "      <td>(59999.318, 69998.666]</td>\n",
       "      <td>0.827157</td>\n",
       "    </tr>\n",
       "    <tr>\n",
       "      <th>4</th>\n",
       "      <td>18</td>\n",
       "      <td>10</td>\n",
       "      <td>&lt;=50K</td>\n",
       "      <td>46290.18</td>\n",
       "      <td>(40000.622, 49999.97]</td>\n",
       "      <td>0.704455</td>\n",
       "    </tr>\n",
       "    <tr>\n",
       "      <th>...</th>\n",
       "      <td>...</td>\n",
       "      <td>...</td>\n",
       "      <td>...</td>\n",
       "      <td>...</td>\n",
       "      <td>...</td>\n",
       "      <td>...</td>\n",
       "    </tr>\n",
       "    <tr>\n",
       "      <th>48837</th>\n",
       "      <td>27</td>\n",
       "      <td>12</td>\n",
       "      <td>&lt;=50K</td>\n",
       "      <td>9428.73</td>\n",
       "      <td>(-96.763, 10002.578]</td>\n",
       "      <td>0.144241</td>\n",
       "    </tr>\n",
       "    <tr>\n",
       "      <th>48838</th>\n",
       "      <td>40</td>\n",
       "      <td>9</td>\n",
       "      <td>&gt;50K</td>\n",
       "      <td>89589.14</td>\n",
       "      <td>(79998.014, 89997.362]</td>\n",
       "      <td>0.951660</td>\n",
       "    </tr>\n",
       "    <tr>\n",
       "      <th>48839</th>\n",
       "      <td>58</td>\n",
       "      <td>9</td>\n",
       "      <td>&lt;=50K</td>\n",
       "      <td>21784.67</td>\n",
       "      <td>(20001.926, 30001.274]</td>\n",
       "      <td>0.329880</td>\n",
       "    </tr>\n",
       "    <tr>\n",
       "      <th>48840</th>\n",
       "      <td>22</td>\n",
       "      <td>9</td>\n",
       "      <td>&lt;=50K</td>\n",
       "      <td>4288.09</td>\n",
       "      <td>(-96.763, 10002.578]</td>\n",
       "      <td>0.064248</td>\n",
       "    </tr>\n",
       "    <tr>\n",
       "      <th>48841</th>\n",
       "      <td>52</td>\n",
       "      <td>9</td>\n",
       "      <td>&gt;50K</td>\n",
       "      <td>99017.80</td>\n",
       "      <td>(89997.362, 99996.71]</td>\n",
       "      <td>0.994922</td>\n",
       "    </tr>\n",
       "  </tbody>\n",
       "</table>\n",
       "<p>48842 rows × 6 columns</p>\n",
       "</div>"
      ],
      "text/plain": [
       "       age  educational-num income  income_rand         income_rand_bin  \\\n",
       "0       25                7  <=50K     41485.08   (40000.622, 49999.97]   \n",
       "1       38                9  <=50K     22375.98  (20001.926, 30001.274]   \n",
       "2       28               12   >50K     96183.51   (89997.362, 99996.71]   \n",
       "3       44               10   >50K     63861.73  (59999.318, 69998.666]   \n",
       "4       18               10  <=50K     46290.18   (40000.622, 49999.97]   \n",
       "...    ...              ...    ...          ...                     ...   \n",
       "48837   27               12  <=50K      9428.73    (-96.763, 10002.578]   \n",
       "48838   40                9   >50K     89589.14  (79998.014, 89997.362]   \n",
       "48839   58                9  <=50K     21784.67  (20001.926, 30001.274]   \n",
       "48840   22                9  <=50K      4288.09    (-96.763, 10002.578]   \n",
       "48841   52                9   >50K     99017.80   (89997.362, 99996.71]   \n",
       "\n",
       "            pct  \n",
       "0      0.631301  \n",
       "1      0.339237  \n",
       "2      0.982187  \n",
       "3      0.827157  \n",
       "4      0.704455  \n",
       "...         ...  \n",
       "48837  0.144241  \n",
       "48838  0.951660  \n",
       "48839  0.329880  \n",
       "48840  0.064248  \n",
       "48841  0.994922  \n",
       "\n",
       "[48842 rows x 6 columns]"
      ]
     },
     "execution_count": 119,
     "metadata": {},
     "output_type": "execute_result"
    }
   ],
   "source": [
    "df"
   ]
  },
  {
   "attachments": {
    "image.png": {
     "image/png": "[encoded data removed]"
    }
   },
   "cell_type": "markdown",
   "id": "42bc9aff",
   "metadata": {},
   "source": [
    "![image.png](attachment:image.png)"
   ]
  },
  {
   "attachments": {
    "image.png": {
     "image/png": "[encoded data removed]"
    }
   },
   "cell_type": "markdown",
   "id": "58dee564",
   "metadata": {},
   "source": [
    "![image.png](attachment:image.png)"
   ]
  },
  {
   "cell_type": "code",
   "execution_count": 122,
   "id": "98bfd7dd",
   "metadata": {},
   "outputs": [
    {
     "data": {
      "text/plain": [
       "<Axes: xlabel='age', ylabel='income_rand'>"
      ]
     },
     "execution_count": 122,
     "metadata": {},
     "output_type": "execute_result"
    },
    {
     "data": {
      "image/png": "[encoded data removed]",
      "text/plain": [
       "<Figure size 640x480 with 1 Axes>"
      ]
     },
     "metadata": {},
     "output_type": "display_data"
    }
   ],
   "source": [
    "df.plot(x='age',y='income_rand',kind='scatter')"
   ]
  },
  {
   "cell_type": "markdown",
   "id": "1bcc2d89",
   "metadata": {},
   "source": [
    "## Подведем итоги"
   ]
  },
  {
   "cell_type": "code",
   "execution_count": 123,
   "id": "c3b499ff",
   "metadata": {},
   "outputs": [
    {
     "data": {
      "text/plain": [
       "<Axes: title={'center': 'income_rand'}, xlabel='age'>"
      ]
     },
     "execution_count": 123,
     "metadata": {},
     "output_type": "execute_result"
    },
    {
     "data": {
      "image/png": "[encoded data removed]",
      "text/plain": [
       "<Figure size 640x480 with 1 Axes>"
      ]
     },
     "metadata": {},
     "output_type": "display_data"
    }
   ],
   "source": [
    "df.boxplot('income_rand',by='age')"
   ]
  },
  {
   "cell_type": "markdown",
   "id": "aed0b22d",
   "metadata": {},
   "source": [
    "## Д/З посмотреть violin plot"
   ]
  },
  {
   "cell_type": "code",
   "execution_count": null,
   "id": "6f80ba81",
   "metadata": {},
   "outputs": [],
   "source": []
  }
 ],
 "metadata": {
  "kernelspec": {
   "display_name": "Python 3 (ipykernel)",
   "language": "python",
   "name": "python3"
  },
  "language_info": {
   "codemirror_mode": {
    "name": "ipython",
    "version": 3
   },
   "file_extension": ".py",
   "mimetype": "text/x-python",
   "name": "python",
   "nbconvert_exporter": "python",
   "pygments_lexer": "ipython3",
   "version": "3.10.9"
  },
  "toc": {
   "base_numbering": 1,
   "nav_menu": {
    "height": "212.986px",
    "width": "359.983px"
   },
   "number_sections": true,
   "sideBar": true,
   "skip_h1_title": false,
   "title_cell": "Table of Contents",
   "title_sidebar": "Contents",
   "toc_cell": false,
   "toc_position": {
    "height": "calc(100% - 180px)",
    "left": "10px",
    "top": "150px",
    "width": "426.667px"
   },
   "toc_section_display": true,
   "toc_window_display": true
  }
 },
 "nbformat": 4,
 "nbformat_minor": 5
}
